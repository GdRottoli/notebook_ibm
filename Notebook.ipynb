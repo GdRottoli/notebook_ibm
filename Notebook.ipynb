{
 "cells": [
  {
   "cell_type": "markdown",
   "id": "69378313-4e92-44b1-96d0-39c7f8570771",
   "metadata": {},
   "source": [
    "# My Jupyter Notebook on IBM Watson Studio"
   ]
  },
  {
   "cell_type": "markdown",
   "id": "102fd632-8a93-43b1-a4b7-eb29fc0d3538",
   "metadata": {},
   "source": [
    "**Giovanni Rottoli**\n",
    "\n",
    "Data Scientist"
   ]
  },
  {
   "cell_type": "markdown",
   "id": "37e52a98-b52b-4032-9f12-0ab270c653ae",
   "metadata": {},
   "source": [
    "*I'm interested in data science because you can solve real world problems based on evidence, provided through data, obtained using marvelous technology in a rigorous way*"
   ]
  },
  {
   "cell_type": "markdown",
   "id": "18ad5c44-2b0d-415e-9ba7-4120a1d4133f",
   "metadata": {},
   "source": [
    "### Plot a random dataset"
   ]
  },
  {
   "cell_type": "code",
   "execution_count": 4,
   "id": "e022ef5f-e764-4ea8-bd4d-14b096bb51bc",
   "metadata": {},
   "outputs": [
    {
     "data": {
      "image/png": "[encoded data removed]",
      "text/plain": [
       "<Figure size 432x288 with 1 Axes>"
      ]
     },
     "metadata": {
      "needs_background": "light"
     },
     "output_type": "display_data"
    }
   ],
   "source": [
    "import random\n",
    "import matplotlib.pyplot as plt\n",
    " \n",
    "xs = [random.randint(0, 10) for _ in range(100)]\n",
    "ys = [random.randint(0, 10) for _ in range(100)]\n",
    "\n",
    "plt.scatter(xs, ys)\n",
    "plt.xlabel(\"X\")\n",
    "plt.ylabel(\"Y\")\n",
    "plt.title(\"Random plot\")\n",
    "plt.show()"
   ]
  },
  {
   "cell_type": "markdown",
   "id": "27afbb87-9286-4d99-9fd2-938e666ed1f7",
   "metadata": {},
   "source": [
    "---\n",
    "* This cell contains:\n",
    "1. Horizontal Rule\n",
    "2. Bullet list"
   ]
  }
 ],
 "metadata": {
  "kernelspec": {
   "display_name": "Python",
   "language": "python",
   "name": "conda-env-python-py"
  },
  "language_info": {
   "codemirror_mode": {
    "name": "ipython",
    "version": 3
   },
   "file_extension": ".py",
   "mimetype": "text/x-python",
   "name": "python",
   "nbconvert_exporter": "python",
   "pygments_lexer": "ipython3",
   "version": "3.7.12"
  }
 },
 "nbformat": 4,
 "nbformat_minor": 5
}
